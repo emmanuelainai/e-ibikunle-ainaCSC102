{
 "cells": [
  {
   "cell_type": "code",
   "execution_count": null,
   "metadata": {},
   "outputs": [],
   "source": [
    "import csv\n",
    "\n",
    "def verify_employee(FIRSTNAME, DEPARTMENT):\n",
    "    with open('jt-ventures.csv', 'r') as file:\n",
    "        reader = csv.reader(file)\n",
    "        header = next(reader)  # skip header row\n",
    "        for row in reader:\n",
    "            if row[0].strip().lower() == FIRSTNAME.strip().lower() and row[1].strip().lower() == DEPARTMENT.strip().lower():\n",
    "                print(f\"Welcome {row[0]} from {row[1]} DEPARTMENT!\")\n",
    "                print(\"JT Ventures is a delivery business that specializes in timely and efficient delivery of goods to customers.\")\n",
    "                return\n",
    "        print(f\"Sorry, {FIRSTNAME} from {DEPARTMENT} department is not an employee of JT Ventures.\")\n",
    "\n",
    "verify_employee(\"Osose\", \"logistics\")"
   ]
  },
  {
   "cell_type": "code",
   "execution_count": null,
   "metadata": {},
   "outputs": [],
   "source": [
    "def calculate_delivery_charge(location, weight):\n",
    "    if location.lower() == \"ibeju-lekki\":\n",
    "        if weight >= 10:\n",
    "            return 2000\n",
    "        else:\n",
    "            return 1500\n",
    "    elif location.lower() == \"epe\":\n",
    "        if weight >= 10:\n",
    "            return 5000\n",
    "        else:\n",
    "            return 4000\n",
    "    else:\n",
    "        return None\n",
    "location = \"ibeju-lekki\"\n",
    "weight = 109\n",
    "\n",
    "charge = calculate_delivery_charge(location, weight)\n",
    "\n",
    "if charge is not None:\n",
    "    print(f\"The delivery charge for a {weight}kg package to {location} is N{charge}.\")\n",
    "else:\n",
    "    print(f\"Sorry, we do not deliver to {location}.\")\n"
   ]
  }
 ],
 "metadata": {
  "language_info": {
   "name": "python"
  },
  "orig_nbformat": 4
 },
 "nbformat": 4,
 "nbformat_minor": 2
}

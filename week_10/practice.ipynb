{
 "cells": [
  {
   "cell_type": "code",
   "execution_count": 1,
   "metadata": {},
   "outputs": [
    {
     "name": "stdout",
     "output_type": "stream",
     "text": [
      "You bought 10 oranges. The total cost is $5.00.\n",
      "Thank you for your patronage!\n"
     ]
    }
   ],
   "source": [
    "class OrangeStore:\n",
    "    def __init__(self, stock):\n",
    "        self.stock = stock\n",
    "    \n",
    "    def buy_oranges(self, quantity):\n",
    "        if quantity <= self.stock:\n",
    "            self.stock -= quantity\n",
    "            cost = quantity * 0.5  # Assuming each orange costs $0.50\n",
    "            print(f\"You bought {quantity} oranges. The total cost is ${cost:.2f}.\")\n",
    "        else:\n",
    "            print(\"Sorry, we don't have enough stock. Please select a smaller quantity.\")\n",
    "\n",
    "# Create an instance of the OrangeStore with an initial stock quantity\n",
    "store = OrangeStore(10)\n",
    "\n",
    "# Prompt the user to enter the quantity of oranges to buy\n",
    "requested_quantity = int(input(\"Enter the number of oranges you want to buy: \"))\n",
    "\n",
    "# Call the buy_oranges method to process the purchase\n",
    "store.buy_oranges(requested_quantity)\n",
    "\n",
    "# Thank the customer for their patronage\n",
    "print(\"Thank you for your patronage!\")\n"
   ]
  },
  {
   "cell_type": "code",
   "execution_count": 3,
   "metadata": {},
   "outputs": [
    {
     "name": "stdout",
     "output_type": "stream",
     "text": [
      "Select an equation:\n",
      "1. Area of Trapezium\n",
      "2. Area of Rhombus\n",
      "3. Area of Parallelogram\n",
      "4. Surface Area of Cube\n",
      "5. Volume of Cylinder\n",
      "The area of the rhombus is: 12.5\n"
     ]
    }
   ],
   "source": [
    "import math\n",
    "\n",
    "class GeometryCalculator:\n",
    "    @staticmethod\n",
    "    def trapezium_area():\n",
    "        height = float(input(\"Enter the height of the trapezium: \"))\n",
    "        base1 = float(input(\"Enter the length of the first base: \"))\n",
    "        base2 = float(input(\"Enter the length of the second base: \"))\n",
    "        area = height / 2 * (base1 + base2)\n",
    "        print(f\"The area of the trapezium is: {area}\")\n",
    "    \n",
    "    @staticmethod\n",
    "    def rhombus_area():\n",
    "        diagonal1 = float(input(\"Enter the length of the first diagonal: \"))\n",
    "        diagonal2 = float(input(\"Enter the length of the second diagonal: \"))\n",
    "        area = 0.5 * diagonal1 * diagonal2\n",
    "        print(f\"The area of the rhombus is: {area}\")\n",
    "    \n",
    "    @staticmethod\n",
    "    def parallelogram_area():\n",
    "        base = float(input(\"Enter the length of the base: \"))\n",
    "        altitude = float(input(\"Enter the length of the altitude: \"))\n",
    "        area = base * altitude\n",
    "        print(f\"The area of the parallelogram is: {area}\")\n",
    "    \n",
    "    @staticmethod\n",
    "    def cube_area():\n",
    "        side_length = float(input(\"Enter the length of the side of the cube: \"))\n",
    "        area = 6 * (side_length ** 2)\n",
    "        print(f\"The surface area of the cube is: {area}\")\n",
    "    \n",
    "    @staticmethod\n",
    "    def cylinder_volume():\n",
    "        radius = float(input(\"Enter the radius of the cylinder: \"))\n",
    "        height = float(input(\"Enter the height of the cylinder: \"))\n",
    "        volume = math.pi * (radius ** 2) * height\n",
    "        print(f\"The volume of the cylinder is: {volume}\")\n",
    "\n",
    "# Prompt the user to select an equation\n",
    "print(\"Select an equation:\")\n",
    "print(\"1. Area of Trapezium\")\n",
    "print(\"2. Area of Rhombus\")\n",
    "print(\"3. Area of Parallelogram\")\n",
    "print(\"4. Surface Area of Cube\")\n",
    "print(\"5. Volume of Cylinder\")\n",
    "\n",
    "choice = int(input(\"Enter your choice (1-5): \"))\n",
    "\n",
    "# Perform the corresponding calculation based on the user's choice\n",
    "if choice == 1:\n",
    "    GeometryCalculator.trapezium_area()\n",
    "elif choice == 2:\n",
    "    GeometryCalculator.rhombus_area()\n",
    "elif choice == 3:\n",
    "    GeometryCalculator.parallelogram_area()\n",
    "elif choice == 4:\n",
    "    GeometryCalculator.cube_area()\n",
    "elif choice == 5:\n",
    "    GeometryCalculator.cylinder_volume()\n",
    "else:\n",
    "    print(\"Invalid choice.\")\n"
   ]
  },
  {
   "cell_type": "code",
   "execution_count": 6,
   "metadata": {},
   "outputs": [
    {
     "name": "stdout",
     "output_type": "stream",
     "text": [
      "The drink categories have been saved to drink_categories.csv successfully.\n"
     ]
    }
   ],
   "source": [
    "class DrinkCategories:\n",
    "    def __init__(self):\n",
    "        self.categories = {\n",
    "            \"Lager\": [\"33 Export\", \"Desperados\", \"Goldberg\", \"Gulder\", \"Heineken\", \"Star\"],\n",
    "            \"Stout\": [\"Legend\", \"Turbo King\", \"Williams\"],\n",
    "            \"Non-Alcoholic\": [\"Maltina\", \"Amstel Malta\", \"Fayrouz\"]\n",
    "        }\n",
    "    \n",
    "    def save_categories_to_csv(self):\n",
    "        filename = \"drink_categories.csv\"\n",
    "        with open(filename, \"w\") as file:\n",
    "            max_len = max(len(drinks) for drinks in self.categories.values())\n",
    "            \n",
    "            # Write the headers\n",
    "            headers = list(self.categories.keys())\n",
    "            file.write(\",\".join(headers) + \"\\n\")\n",
    "            \n",
    "            # Write the drinks row by row\n",
    "            for i in range(max_len):\n",
    "                row = []\n",
    "                for category, drinks in self.categories.items():\n",
    "                    if i < len(drinks):\n",
    "                        row.append(drinks[i])\n",
    "                    else:\n",
    "                        row.append(\"\")\n",
    "                file.write(\",\".join(row) + \"\\n\")\n",
    "        \n",
    "        print(f\"The drink categories have been saved to {filename} successfully.\")\n",
    "\n",
    "# Create an instance of the DrinkCategories class\n",
    "drink_categories = DrinkCategories()\n",
    "\n",
    "# Call the save_categories_to_csv method to create the CSV file\n",
    "drink_categories.save_categories_to_csv()\n"
   ]
  }
 ],
 "metadata": {
  "kernelspec": {
   "display_name": "Python 3",
   "language": "python",
   "name": "python3"
  },
  "language_info": {
   "codemirror_mode": {
    "name": "ipython",
    "version": 3
   },
   "file_extension": ".py",
   "mimetype": "text/x-python",
   "name": "python",
   "nbconvert_exporter": "python",
   "pygments_lexer": "ipython3",
   "version": "3.11.3"
  },
  "orig_nbformat": 4
 },
 "nbformat": 4,
 "nbformat_minor": 2
}

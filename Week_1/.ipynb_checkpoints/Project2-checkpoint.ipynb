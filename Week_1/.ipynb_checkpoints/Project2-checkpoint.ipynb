{
 "cells": [
  {
   "cell_type": "code",
   "execution_count": 3,
   "id": "8a65536e",
   "metadata": {},
   "outputs": [
    {
     "name": "stdout",
     "output_type": "stream",
     "text": [
      "648.0\n"
     ]
    }
   ],
   "source": [
    "#COMPOUND INTEREST\n",
    "\n",
    "#Step 1- let p = 3\n",
    "#Step 2- let r = 5\n",
    "#Step 3- let t = 3\n",
    "#Step 4- let n = 1\n",
    "#Step 5- let rate = r/n\n",
    "#Step 6- let x = 1 + rate\n",
    "#Step 7- let timerate = x ^n*t\n",
    "#Step 8- let A = P * timerate\n",
    "#Step 9- Print A\n",
    "#Step 10- END \n",
    "\n",
    "p=3\n",
    "r=5\n",
    "t=3\n",
    "n=1\n",
    "rate=r/n\n",
    "x=1+rate\n",
    "timerate=x**(n*t)\n",
    "A=p*timerate\n",
    "print(A)"
   ]
  },
  {
   "cell_type": "code",
   "execution_count": null,
   "id": "3e59c748",
   "metadata": {},
   "outputs": [],
   "source": []
  }
 ],
 "metadata": {
  "kernelspec": {
   "display_name": "Python 3 (ipykernel)",
   "language": "python",
   "name": "python3"
  },
  "language_info": {
   "codemirror_mode": {
    "name": "ipython",
    "version": 3
   },
   "file_extension": ".py",
   "mimetype": "text/x-python",
   "name": "python",
   "nbconvert_exporter": "python",
   "pygments_lexer": "ipython3",
   "version": "3.10.9"
  }
 },
 "nbformat": 4,
 "nbformat_minor": 5
}

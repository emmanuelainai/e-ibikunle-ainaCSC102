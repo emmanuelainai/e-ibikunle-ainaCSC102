{
 "cells": [
  {
   "cell_type": "code",
   "execution_count": 4,
   "id": "68a631cb",
   "metadata": {},
   "outputs": [
    {
     "name": "stdout",
     "output_type": "stream",
     "text": [
      "1231.1999999999998\n"
     ]
    }
   ],
   "source": [
    "#ANNUITY PLAN\n",
    "\n",
    "#Step 1- let PMT = 3\n",
    "#Step 2- let r = 5\n",
    "#Step 2- let R = 9\n",
    "#Step 3- let t = 3\n",
    "#Step 4- let n = 1\n",
    "#Step 5- let rate = r/n\n",
    "#Step 6- let x = 1 + rate\n",
    "#Step 7- let timerate = x ^n*t\n",
    "#Step 8- let Z = timerate - 1\n",
    "#Step 9- let Y = Z / (R/r)\n",
    "#Step 10- let A = PMT * Y\n",
    "#Step 11- END \n",
    "\n",
    "PMT=3\n",
    "r=5\n",
    "R=9\n",
    "t=3\n",
    "n=1\n",
    "rate=r/n\n",
    "x=1+rate\n",
    "timerate=x**(n*t)\n",
    "z=timerate-1\n",
    "y=z/(R/r)\n",
    "A=PMT*y\n",
    "print(A)"
   ]
  },
  {
   "cell_type": "code",
   "execution_count": null,
   "id": "106c369d",
   "metadata": {},
   "outputs": [],
   "source": []
  }
 ],
 "metadata": {
  "kernelspec": {
   "display_name": "Python 3 (ipykernel)",
   "language": "python",
   "name": "python3"
  },
  "language_info": {
   "codemirror_mode": {
    "name": "ipython",
    "version": 3
   },
   "file_extension": ".py",
   "mimetype": "text/x-python",
   "name": "python",
   "nbconvert_exporter": "python",
   "pygments_lexer": "ipython3",
   "version": "3.10.9"
  }
 },
 "nbformat": 4,
 "nbformat_minor": 5
}

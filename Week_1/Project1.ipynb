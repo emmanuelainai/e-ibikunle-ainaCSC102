{
 "cells": [
  {
   "cell_type": "code",
   "execution_count": 2,
   "id": "dff0a9d4",
   "metadata": {},
   "outputs": [
    {
     "name": "stdout",
     "output_type": "stream",
     "text": [
      "3.4499999999999997\n"
     ]
    }
   ],
   "source": [
    "#SIMPLE INTEREST\n",
    "\n",
    "#Step 1- let p = 3\n",
    "#Step 2- let r = 5\n",
    "#Step 3- let t = 3\n",
    "#Step 4- let rate = r/100\n",
    "#Step 5- let timerate = rate * t\n",
    "#Step 6- let x = 1 + timerate\n",
    "#Step 7- let A = P * x\n",
    "#Step 8- Print A\n",
    "#Step 9- END \n",
    "\n",
    "p = 3\n",
    "r = 5\n",
    "t = 3\n",
    "rate = r/100\n",
    "timerate = rate * t\n",
    "x = 1 + timerate\n",
    "A = p * x\n",
    "print(A)\n"
   ]
  },
  {
   "cell_type": "code",
   "execution_count": null,
   "id": "36a4a6a2",
   "metadata": {},
   "outputs": [],
   "source": []
  }
 ],
 "metadata": {
  "kernelspec": {
   "display_name": "Python 3 (ipykernel)",
   "language": "python",
   "name": "python3"
  },
  "language_info": {
   "codemirror_mode": {
    "name": "ipython",
    "version": 3
   },
   "file_extension": ".py",
   "mimetype": "text/x-python",
   "name": "python",
   "nbconvert_exporter": "python",
   "pygments_lexer": "ipython3",
   "version": "3.10.9"
  }
 },
 "nbformat": 4,
 "nbformat_minor": 5
}

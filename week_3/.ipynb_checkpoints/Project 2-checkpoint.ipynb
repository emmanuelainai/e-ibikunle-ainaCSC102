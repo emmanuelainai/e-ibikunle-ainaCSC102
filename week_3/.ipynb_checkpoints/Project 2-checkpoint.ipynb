{
 "cells": [
  {
   "cell_type": "code",
   "execution_count": 3,
   "id": "850c1818",
   "metadata": {},
   "outputs": [
    {
     "name": "stdout",
     "output_type": "stream",
     "text": [
      "The roots of the cubic equation are:\n",
      "x1 = -1.5\n",
      "x2 = 1.936491673103708j\n",
      "x3 = -1.936491673103708j\n"
     ]
    }
   ],
   "source": [
    "#Project 2a\n",
    "import math\n",
    "\n",
    "def cubic_root(A, B, C, D):\n",
    "    delta = (B**2 - 3*A*C)/(9*A**2)\n",
    "    if delta > 0:\n",
    "        S = math.pow(((B/(3*A)) + delta), 1/3)\n",
    "        T = math.pow(((B/(3*A)) - delta), 1/3)\n",
    "    elif delta == 0:\n",
    "        S = T = math.pow(B/(3*A), 1/3)\n",
    "    else:\n",
    "        alpha = -B/(3*A)\n",
    "        beta = math.sqrt(3)*math.sqrt(-(B**2 - 3*A*C))/(3*A)\n",
    "        S = alpha + beta\n",
    "        T = alpha - beta\n",
    "    x1 = S + T - (B/(3*A))\n",
    "    x2 = complex(-(S + T)/2 - (B/(3*A)), (math.sqrt(3)*(S - T)/2))\n",
    "    x3 = complex(-(S + T)/2 - (B/(3*A)), -(math.sqrt(3)*(S - T)/2))\n",
    "    return x1, x2, x3\n",
    "\n",
    "A = 2\n",
    "B = 3\n",
    "C = 4\n",
    "D = 5\n",
    "\n",
    "roots = cubic_root(A, B, C, D)\n",
    "\n",
    "print(\"The roots of the cubic equation are:\")\n",
    "print(\"x1 =\", roots[0])\n",
    "print(\"x2 =\", roots[1])\n",
    "print(\"x3 =\", roots[2])"
   ]
  },
  {
   "cell_type": "code",
   "execution_count": 4,
   "id": "26fc0966",
   "metadata": {},
   "outputs": [
    {
     "name": "stdout",
     "output_type": "stream",
     "text": [
      "The roots of the quartic equation are:\n",
      "x1 = (5.784944439431855+1.8203592243569866j)\n",
      "x2 = (1.5301248574839077-0.03734957153606311j)\n",
      "x3 = (-0.4891016000548285+2.9887197530378096j)\n",
      "x4 = (-3.1243013938672606+1.537827013087866j)\n"
     ]
    }
   ],
   "source": [
    "#Project 2b \n",
    "import cmath\n",
    "\n",
    "def quartic_root(A, B, C, D, E):\n",
    "    if A == 0:\n",
    "        return cubic_root(B, C, D, E)\n",
    "    B /= A\n",
    "    C /= A\n",
    "    D /= A\n",
    "    E /= A\n",
    "    delta0 = B*B - 3*C\n",
    "    delta1 = 2*B*B*B - 9*B*C + 27*D\n",
    "    C1 = (delta1 + cmath.sqrt(delta1**2 - 4*delta0**3))/2\n",
    "    C2 = (delta1 - cmath.sqrt(delta1**2 - 4*delta0**3))/2\n",
    "    C3 = complex(-0.5, cmath.sqrt(3)/2)\n",
    "    C4 = complex(-0.5, -cmath.sqrt(3)/2)\n",
    "    y1 = (C1**(1/3) + C2**(1/3)) - B/3\n",
    "    if C1 == C2:\n",
    "        y2 = -C1**(1/3) - B/3\n",
    "    else:\n",
    "        y2 = C3*C1**(1/3) + C4*C2**(1/3) - B/3\n",
    "    p = -E - B*y1 - C*y2\n",
    "    q = B*y1*y2 + C*y1 + D\n",
    "    delta = p**2 - 4*q\n",
    "    sqrt_delta = cmath.sqrt(delta)\n",
    "    r1 = (-p + sqrt_delta)/2\n",
    "    r2 = (-p - sqrt_delta)/2\n",
    "    x1 = y1 + (r1**(1/2) if r1.real >= 0 else -(-r1)**(1/2))\n",
    "    x2 = y1 - (r1**(1/2) if r1.real >= 0 else -(-r1)**(1/2))\n",
    "    x3 = y2 + (r2**(1/2) if r2.real >= 0 else -(-r2)**(1/2))\n",
    "    x4 = y2 - (r2**(1/2) if r2.real >= 0 else -(-r2)**(1/2))\n",
    "    return x1, x2, x3, x4\n",
    "\n",
    "# Example usage\n",
    "A = 2\n",
    "B = 3\n",
    "C = 4\n",
    "D = 5\n",
    "E = 6\n",
    "\n",
    "roots = quartic_root(A, B, C, D, E)\n",
    "\n",
    "print(\"The roots of the quartic equation are:\")\n",
    "print(\"x1 =\", roots[0])\n",
    "print(\"x2 =\", roots[1])\n",
    "print(\"x3 =\", roots[2])\n",
    "print(\"x4 =\", roots[3])"
   ]
  },
  {
   "cell_type": "code",
   "execution_count": null,
   "id": "633c8f21",
   "metadata": {},
   "outputs": [],
   "source": []
  }
 ],
 "metadata": {
  "kernelspec": {
   "display_name": "Python 3 (ipykernel)",
   "language": "python",
   "name": "python3"
  },
  "language_info": {
   "codemirror_mode": {
    "name": "ipython",
    "version": 3
   },
   "file_extension": ".py",
   "mimetype": "text/x-python",
   "name": "python",
   "nbconvert_exporter": "python",
   "pygments_lexer": "ipython3",
   "version": "3.10.9"
  }
 },
 "nbformat": 4,
 "nbformat_minor": 5
}

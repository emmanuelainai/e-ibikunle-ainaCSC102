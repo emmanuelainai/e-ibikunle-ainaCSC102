{
 "cells": [
  {
   "cell_type": "code",
   "execution_count": 1,
   "id": "918c0a96",
   "metadata": {},
   "outputs": [
    {
     "name": "stdout",
     "output_type": "stream",
     "text": [
      "Enter your state of origin:Lol\n",
      "Your state of origin is:  Lol\n",
      "The first chararcter is:  L\n",
      "The characters starting from 3rd to 5th are:  l\n",
      "The string starting from 3rd character is:  l\n",
      "State of origin two times LolLol\n"
     ]
    }
   ],
   "source": [
    "str = input(\"Enter your state of origin:\")\n",
    "\n",
    "print (\"Your state of origin is: \", str)\n",
    "print (\"The first chararcter is: \", str[0])\n",
    "print (\"The characters starting from 3rd to 5th are: \", str[2:5])\n",
    "print (\"The string starting from 3rd character is: \", str[2:])\n",
    "print (\"State of origin two times\", str*2)"
   ]
  },
  {
   "cell_type": "code",
   "execution_count": 2,
   "id": "a0b642de",
   "metadata": {},
   "outputs": [
    {
     "name": "stdout",
     "output_type": "stream",
     "text": [
      "Enter mass in kilograms: 10\n",
      "The energy equivalent to 10.0 kg of mass is 8.987551787368177e+17 joules.\n"
     ]
    }
   ],
   "source": [
    "#Input from user\n",
    "m = float(input(\"Enter mass in kilograms: \"))\n",
    "\n",
    "# Constant value for the speed of light in m/s\n",
    "c = 299792458\n",
    "\n",
    "#Calculatin energy using Einstein's equation\n",
    "energy = m * c ** 2 \n",
    "\n",
    "#Displaying the result\n",
    "print(f\"The energy equivalent to {m} kg of mass is {energy} joules.\")"
   ]
  },
  {
   "cell_type": "code",
   "execution_count": 4,
   "id": "d137e257",
   "metadata": {
    "scrolled": true
   },
   "outputs": [
    {
     "name": "stdout",
     "output_type": "stream",
     "text": [
      "['Anaconda', 786, 2.23, 'Jupyter', 70.2]\n",
      "Anaconda\n",
      "[786, 2.23]\n",
      "[2.23, 'Jupyter', 70.2]\n",
      "[321, 'Python', 321, 'Python']\n",
      "['Anaconda', 786, 2.23, 'Jupyter', 70.2, 321, 'Python']\n"
     ]
    }
   ],
   "source": [
    "list = [ 'Anaconda', 786 , 2.23, 'Jupyter', 70.2]\n",
    "shortlist = [321, 'Python']\n",
    "\n",
    "print(list)\n",
    "print(list[0])\n",
    "print(list[1:3])\n",
    "print(list[2:])\n",
    "print(shortlist * 2)\n",
    "print(list + shortlist)"
   ]
  },
  {
   "cell_type": "code",
   "execution_count": 7,
   "id": "0eb06ee4",
   "metadata": {},
   "outputs": [
    {
     "name": "stdout",
     "output_type": "stream",
     "text": [
      "('Ekiti', 750, 'Oshogbo', 250, 'Akure', 500)\n",
      "500\n",
      "('Oshogbo', 250)\n",
      "(250, 'Akure', 500)\n",
      "('Abeokuta', 300, 'Ogbomoso', 'Abeokuta', 300, 'Ogbomoso')\n",
      "('Abeokuta', 300, 'Ogbomoso', 'Ekiti', 750, 'Oshogbo', 250, 'Akure', 500)\n"
     ]
    }
   ],
   "source": [
    "tuple = (\"Ekiti\", 750, 'Oshogbo', 250 , 'Akure', 500 )\n",
    "s_tuple = (\"Abeokuta\", 300, 'Ogbomoso')\n",
    "\n",
    "#Prints the complete tuple\n",
    "print (tuple)\n",
    "\n",
    "#Prints the last element of the tuple\n",
    "print (tuple[-1])\n",
    "\n",
    "\n",
    "#Prints element of the tuple from 3rd to 4th\n",
    "print (tuple[2:4])\n",
    "\n",
    "#Prints the elements of the tuple starting from the 4th\n",
    "print (tuple[3:])\n",
    "\n",
    "#Prints the elements of the tuple thrice\n",
    "print (s_tuple*2)\n",
    "\n",
    "#Prints concatenated tuples \n",
    "print (s_tuple + tuple)"
   ]
  },
  {
   "cell_type": "code",
   "execution_count": 8,
   "id": "e459725c",
   "metadata": {},
   "outputs": [
    {
     "name": "stdout",
     "output_type": "stream",
     "text": [
      "False\n",
      "False\n",
      "False\n",
      "False\n",
      "True\n"
     ]
    }
   ],
   "source": [
    "#Returns false as game_1 is not equal to game_2\n",
    "game_1 = 2\n",
    "game_2 = 4\n",
    "print(bool(game_1 == game_2)) \n",
    "#or \n",
    "print(game_1 == game_2)\n",
    "\n",
    "#Return false as val is none\n",
    "val = None\n",
    "print(bool(val))\n",
    "\n",
    "#Returns false as num is a empty sequence\n",
    "num = ()\n",
    "print(bool(num))\n",
    "\n",
    "#Returns true as age is boolean\n",
    "age = True\n",
    "print(bool(age))"
   ]
  },
  {
   "cell_type": "code",
   "execution_count": 9,
   "id": "0aa36ec8",
   "metadata": {},
   "outputs": [
    {
     "name": "stdout",
     "output_type": "stream",
     "text": [
      "grade = 70\n",
      "gpa = 4\n",
      "cgpa = 4\n"
     ]
    }
   ],
   "source": [
    "#convert to int\n",
    "\n",
    "grade = int(70)\n",
    "gpa = int(4.9)\n",
    "cgpa = int(\"4\")\n",
    "\n",
    "print(f\"grade = {grade}\")\n",
    "print(f\"gpa = {gpa}\")\n",
    "print(f\"cgpa = {cgpa}\")"
   ]
  },
  {
   "cell_type": "code",
   "execution_count": 11,
   "id": "0d158e91",
   "metadata": {},
   "outputs": [
    {
     "name": "stdout",
     "output_type": "stream",
     "text": [
      "grade = 97.0\n",
      "gpa = 5.0\n",
      "cgpa = 4.7\n"
     ]
    }
   ],
   "source": [
    "#convert to float\n",
    "\n",
    "grade = float(97)\n",
    "gpa = float(5)\n",
    "cgpa = float(\"4.7\")\n",
    "\n",
    "print(f\"grade = {grade}\")\n",
    "print(f\"gpa = {gpa}\")\n",
    "print(f\"cgpa = {cgpa}\")"
   ]
  },
  {
   "cell_type": "code",
   "execution_count": null,
   "id": "3d6cca6b",
   "metadata": {},
   "outputs": [],
   "source": []
  }
 ],
 "metadata": {
  "kernelspec": {
   "display_name": "Python 3 (ipykernel)",
   "language": "python",
   "name": "python3"
  },
  "language_info": {
   "codemirror_mode": {
    "name": "ipython",
    "version": 3
   },
   "file_extension": ".py",
   "mimetype": "text/x-python",
   "name": "python",
   "nbconvert_exporter": "python",
   "pygments_lexer": "ipython3",
   "version": "3.10.9"
  }
 },
 "nbformat": 4,
 "nbformat_minor": 5
}

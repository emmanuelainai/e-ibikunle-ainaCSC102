{
 "cells": [
  {
   "cell_type": "code",
   "execution_count": 1,
   "metadata": {},
   "outputs": [
    {
     "name": "stdout",
     "output_type": "stream",
     "text": [
      "Enter name of City 1:lol\n",
      "Enter name of City 2:yo\n",
      "The name of City 1 after swapping is yo\n",
      "The name of City 2 after swapping is lol\n"
     ]
    }
   ],
   "source": [
    "#python program to swap two cities\n",
    "\n",
    "#To take inputs from the user\n",
    "city_1 = input('Enter name of City 1:')\n",
    "city_2 = input('Enter name of City 2:')\n",
    "\n",
    "#Create a temporary variable and swap the cities\n",
    "temp = city_1\n",
    "city_1 = city_2\n",
    "city_2 = temp\n",
    "\n",
    "print(f\"The name of City 1 after swapping is {city_1}\")\n",
    "print(f\"The name of City 2 after swapping is {city_2}\")"
   ]
  },
  {
   "cell_type": "code",
   "execution_count": 3,
   "metadata": {},
   "outputs": [
    {
     "name": "stdout",
     "output_type": "stream",
     "text": [
      "Enter a number: -1\n",
      "Negative number\n"
     ]
    }
   ],
   "source": [
    "#Program to check if a number is positive negative or 0\n",
    "\n",
    "num = float(input(\"Enter a number: \"))\n",
    "if num > 0:\n",
    "    print (\"Positive number\")\n",
    "elif num == 0:\n",
    "      print (\"Zero\")\n",
    "else:\n",
    "       print(\"Negative number\")"
   ]
  },
  {
   "cell_type": "code",
   "execution_count": null,
   "metadata": {},
   "outputs": [],
   "source": [
    "#Coupe De escriva 2023: Football Picks\n",
    "\n",
    "print(\"Welcome to the COUPE DE ESCRIVA 2023: FOOTBALL PICKS \\n\")\n",
    " \n",
    "captain = {'Madiba: ' : 'Chubby Obiora-Okafo', 'Blue-Jays: ': 'Christopher Uweh',\n",
    "           'Cirok: ': 'Alexander', 'TSG Walkers: ':'Ikechukwu'}\n",
    "\n",
    "goalkeepers = {'Madiba: ': 'Chubby Obiora-Okafo',\n",
    "              'Blue-Jays: ': 'Oladimeji Abaniwondea/Jeffery Awagu',\n",
    "              'Cirok: ': 'Timileyin Pearse/Izuako Jeremy',\n",
    "              'TSG Walkers: ': 'Ayomide Ojituku'}\n",
    "\n",
    "for pick in captain:\n",
    "    print(pick, captain[pick])"
   ]
  },
  {
   "cell_type": "code",
   "execution_count": null,
   "metadata": {},
   "outputs": [],
   "source": []
  }
 ],
 "metadata": {
  "kernelspec": {
   "display_name": "Python 3 (ipykernel)",
   "language": "python",
   "name": "python3"
  },
  "language_info": {
   "codemirror_mode": {
    "name": "ipython",
    "version": 3
   },
   "file_extension": ".py",
   "mimetype": "text/x-python",
   "name": "python",
   "nbconvert_exporter": "python",
   "pygments_lexer": "ipython3",
   "version": "3.10.9"
  }
 },
 "nbformat": 4,
 "nbformat_minor": 2
}

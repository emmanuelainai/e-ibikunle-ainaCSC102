{
 "cells": [
  {
   "cell_type": "code",
   "execution_count": 1,
   "metadata": {},
   "outputs": [
    {
     "name": "stdout",
     "output_type": "stream",
     "text": [
      "Name\t|\tAge\t|\tHeight\t|\tScore\n",
      "--------------------------------------------\n",
      "Samantha\t|\t17\t|\t5.5\t|\t80\n",
      "Jada\t|\t16\t|\t6.0\t|\t85\n",
      "Jane\t|\t17\t|\t5.4\t|\t70\n",
      "Claire\t|\t18\t|\t5.9\t|\t60\n",
      "Elizabeth\t|\t16\t|\t5.6\t|\t76\n",
      "Mary\t|\t18\t|\t5.5\t|\t66\n",
      "Susan\t|\t17\t|\t6.1\t|\t87\n",
      "Waje\t|\t20\t|\t6.0\t|\t95\n",
      "Taibat\t|\t19\t|\t5.7\t|\t50\n",
      "Lilian\t|\t17\t|\t5.5\t|\t49\n",
      "Charles\t|\t19\t|\t5.7\t|\t74\n",
      "Jude\t|\t16\t|\t5.9\t|\t87\n",
      "James\t|\t18\t|\t5.8\t|\t75\n",
      "Kelvin\t|\t17\t|\t6.1\t|\t68\n",
      "Biodun\t|\t20\t|\t5.9\t|\t66\n",
      "Wale\t|\t19\t|\t5.5\t|\t78\n",
      "Kunle\t|\t16\t|\t6.1\t|\t87\n",
      "Matthew\t|\t18\t|\t5.4\t|\t98\n",
      "Tom\t|\t17\t|\t5.8\t|\t54\n",
      "Kayode\t|\t19\t|\t5.7\t|\t60\n"
     ]
    }
   ],
   "source": [
    "# define the student data\n",
    "girls = {\n",
    "    \"Samantha\": {\"age\": 17, \"height\": 5.5, \"score\": 80},\n",
    "    \"Jada\": {\"age\": 16, \"height\": 6.0, \"score\": 85},\n",
    "    \"Jane\": {\"age\": 17, \"height\": 5.4, \"score\": 70},\n",
    "    \"Claire\": {\"age\": 18, \"height\": 5.9, \"score\": 60},\n",
    "    \"Elizabeth\": {\"age\": 16, \"height\": 5.6, \"score\": 76},\n",
    "    \"Mary\": {\"age\": 18, \"height\": 5.5, \"score\": 66},\n",
    "    \"Susan\": {\"age\": 17, \"height\": 6.1, \"score\": 87},\n",
    "    \"Waje\": {\"age\": 20, \"height\": 6.0, \"score\": 95},\n",
    "    \"Taibat\": {\"age\": 19, \"height\": 5.7, \"score\": 50},\n",
    "    \"Lilian\": {\"age\": 17, \"height\": 5.5, \"score\": 49}\n",
    "}\n",
    "\n",
    "boys = {\n",
    "    \"Charles\": {\"age\": 19, \"height\": 5.7, \"score\": 74},\n",
    "    \"Jude\": {\"age\": 16, \"height\": 5.9, \"score\": 87},\n",
    "    \"James\": {\"age\": 18, \"height\": 5.8, \"score\": 75},\n",
    "    \"Kelvin\": {\"age\": 17, \"height\": 6.1, \"score\": 68},\n",
    "    \"Biodun\": {\"age\": 20, \"height\": 5.9, \"score\": 66},\n",
    "    \"Wale\": {\"age\": 19, \"height\": 5.5, \"score\": 78},\n",
    "    \"Kunle\": {\"age\": 16, \"height\": 6.1, \"score\": 87},\n",
    "    \"Matthew\": {\"age\": 18, \"height\": 5.4, \"score\": 98},\n",
    "    \"Tom\": {\"age\": 17, \"height\": 5.8, \"score\": 54},\n",
    "    \"Kayode\": {\"age\": 19, \"height\": 5.7, \"score\": 60}\n",
    "}\n",
    "\n",
    "# print the table header\n",
    "print(\"Name\\t|\\tAge\\t|\\tHeight\\t|\\tScore\")\n",
    "print(\"-\" * 44)\n",
    "\n",
    "# print the girl data\n",
    "for name, data in girls.items():\n",
    "    print(f\"{name}\\t|\\t{data['age']}\\t|\\t{data['height']}\\t|\\t{data['score']}\")\n",
    "\n",
    "# print the boy data\n",
    "for name, data in boys.items():\n",
    "    print(f\"{name}\\t|\\t{data['age']}\\t|\\t{data['height']}\\t|\\t{data['score']}\")"
   ]
  },
  {
   "cell_type": "code",
   "execution_count": 2,
   "metadata": {},
   "outputs": [
    {
     "name": "stdout",
     "output_type": "stream",
     "text": [
      "Annual tax revenue: 5600000\n"
     ]
    }
   ],
   "source": [
    "def calculate_ATR(years_of_experience, age):\n",
    "    if years_of_experience >= 25 and age >= 55:\n",
    "        ATR = 5600000\n",
    "    elif years_of_experience >= 20 and age >= 45:\n",
    "        ATR = 4480000\n",
    "    elif years_of_experience >= 10 and age >= 35:\n",
    "        ATR = 1500000\n",
    "    else:\n",
    "        ATR = 550000\n",
    "    return ATR\n",
    "\n",
    "# Example usage\n",
    "ATR = calculate_ATR(30, 60)\n",
    "print(\"Annual tax revenue:\", ATR)"
   ]
  }
 ],
 "metadata": {
  "kernelspec": {
   "display_name": "Python 3 (ipykernel)",
   "language": "python",
   "name": "python3"
  },
  "language_info": {
   "codemirror_mode": {
    "name": "ipython",
    "version": 3
   },
   "file_extension": ".py",
   "mimetype": "text/x-python",
   "name": "python",
   "nbconvert_exporter": "python",
   "pygments_lexer": "ipython3",
   "version": "3.10.9"
  }
 },
 "nbformat": 4,
 "nbformat_minor": 2
}

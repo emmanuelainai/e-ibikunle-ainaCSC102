class FederalBursary:
    def __init__(self, name, state, bursary, allowance):
        self.name = name
        self.state = state
        self.bursary = bursary
        self.allowance = allowance

    def display_information(self):
        print("Name:             ", self.name)
        print("State of Origin:  ", self.state)
        print("Bursary:          ", self.bursary)
        print("Allowance:        ", self.allowance)


def main():
    name = input("Enter your name: ")
    state = input("Enter your state of origin: ")

    # Create an instance of FederalBursary class
    bursary_obj = FederalBursary("Matthew Agbonrofo", "Edo", "15,000", "20,000")

    # Call the display_information method
    bursary_obj.display_information()


# Entry point of the program
if __name__ == "__main__":
    main()
